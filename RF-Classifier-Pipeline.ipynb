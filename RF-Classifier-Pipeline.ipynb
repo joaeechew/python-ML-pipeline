{
 "cells": [
  {
   "cell_type": "markdown",
   "metadata": {},
   "source": [
    "# Titanic random-forest classifier - Pipeline"
   ]
  },
  {
   "cell_type": "markdown",
   "metadata": {},
   "source": [
    "# Install packages"
   ]
  },
  {
   "cell_type": "code",
   "execution_count": 11,
   "metadata": {
    "collapsed": false
   },
   "outputs": [
    {
     "name": "stdout",
     "output_type": "stream",
     "text": [
      "Requirement already satisfied: pydotplus in c:\\users\\918180\\appdata\\local\\continuum\\anaconda3\\lib\\site-packages\n",
      "Requirement already satisfied: pyparsing>=2.0.1 in c:\\users\\918180\\appdata\\local\\continuum\\anaconda3\\lib\\site-packages (from pydotplus)\n"
     ]
    }
   ],
   "source": [
    "#install as trusted host\n",
    "#!pip install --index-url=http://pypi.python.org/simple/ --trusted-host pypi.python.org lime\n",
    "#!pip install --index-url=http://pypi.python.org/simple/ --trusted-host pypi.python.org treeinterpreter\n",
    "#!pip install --index-url=http://pypi.python.org/simple/ --trusted-host pypi.python.org graphviz\n",
    "#!pip install --index-url=http://pypi.python.org/simple/ --trusted-host pypi.python.org pydotplus"
   ]
  },
  {
   "cell_type": "markdown",
   "metadata": {},
   "source": [
    "# Import libraries"
   ]
  },
  {
   "cell_type": "code",
   "execution_count": 3,
   "metadata": {
    "collapsed": false
   },
   "outputs": [],
   "source": [
    "# Import libraries\n",
    "import numpy as np\n",
    "import pandas as pd\n",
    "import pylab as pl\n",
    "import datetime\n",
    "\n",
    "from treeinterpreter import treeinterpreter as ti\n",
    "\n",
    "import lime\n",
    "import lime.lime_tabular\n",
    "\n",
    "from sklearn.preprocessing import Imputer\n",
    "from sklearn.preprocessing import StandardScaler\n",
    "\n",
    "from sklearn.ensemble import RandomForestClassifier\n",
    "from sklearn.tree import DecisionTreeClassifier\n",
    "from sklearn.model_selection import GridSearchCV\n",
    "from sklearn.model_selection import cross_val_score\n",
    "from sklearn.model_selection import train_test_split\n",
    "from sklearn.metrics import classification_report\n",
    "from sklearn.metrics import confusion_matrix\n",
    "\n",
    "# include plots inline in the notebook (ipython specific)\n",
    "%matplotlib inline"
   ]
  },
  {
   "cell_type": "markdown",
   "metadata": {},
   "source": [
    "# Input cell"
   ]
  },
  {
   "cell_type": "code",
   "execution_count": 4,
   "metadata": {
    "collapsed": true
   },
   "outputs": [],
   "source": [
    "path = 'titanic-train.csv' #Enter data path file here\n",
    "keep = ['Survived', 'Pclass', 'Sex', 'Age', 'SibSp', 'Parch', 'Fare', 'Embarked'] #Keep needed features only\n",
    "\n",
    "one_hot_encoding = True #one-hot encoding for categorical values\n",
    "dropna = True #Do you want to drop missing values?\n",
    "impute = False #Do you want to impute missing values?\n",
    "missing_values = 'NaN' #Make sure missing data has been replaced with NaN first\n",
    "impute_strategy = 'most_frequent' # 'most_frequent', 'mean', 'median'\n",
    "scale_features = False #Do you want to scale numerical figures?\n",
    "\n",
    "target = 'Survived' #Target variable\n",
    "\n",
    "seed = 42 #For random state\n",
    "test_size = 0.4 #For train_test_split"
   ]
  },
  {
   "cell_type": "markdown",
   "metadata": {},
   "source": [
    "# Read data set"
   ]
  },
  {
   "cell_type": "code",
   "execution_count": 5,
   "metadata": {
    "collapsed": false,
    "scrolled": true
   },
   "outputs": [
    {
     "name": "stdout",
     "output_type": "stream",
     "text": [
      "Dataset has 891 rows, 12 columns\n"
     ]
    },
    {
     "data": {
      "text/html": [
       "<div>\n",
       "<table border=\"1\" class=\"dataframe\">\n",
       "  <thead>\n",
       "    <tr style=\"text-align: right;\">\n",
       "      <th></th>\n",
       "      <th>PassengerId</th>\n",
       "      <th>Survived</th>\n",
       "      <th>Pclass</th>\n",
       "      <th>Name</th>\n",
       "      <th>Sex</th>\n",
       "      <th>Age</th>\n",
       "      <th>SibSp</th>\n",
       "      <th>Parch</th>\n",
       "      <th>Ticket</th>\n",
       "      <th>Fare</th>\n",
       "      <th>Cabin</th>\n",
       "      <th>Embarked</th>\n",
       "    </tr>\n",
       "  </thead>\n",
       "  <tbody>\n",
       "    <tr>\n",
       "      <th>0</th>\n",
       "      <td>1</td>\n",
       "      <td>0</td>\n",
       "      <td>3</td>\n",
       "      <td>Braund, Mr. Owen Harris</td>\n",
       "      <td>male</td>\n",
       "      <td>22.0</td>\n",
       "      <td>1</td>\n",
       "      <td>0</td>\n",
       "      <td>A/5 21171</td>\n",
       "      <td>7.2500</td>\n",
       "      <td>NaN</td>\n",
       "      <td>S</td>\n",
       "    </tr>\n",
       "    <tr>\n",
       "      <th>1</th>\n",
       "      <td>2</td>\n",
       "      <td>1</td>\n",
       "      <td>1</td>\n",
       "      <td>Cumings, Mrs. John Bradley (Florence Briggs Th...</td>\n",
       "      <td>female</td>\n",
       "      <td>38.0</td>\n",
       "      <td>1</td>\n",
       "      <td>0</td>\n",
       "      <td>PC 17599</td>\n",
       "      <td>71.2833</td>\n",
       "      <td>C85</td>\n",
       "      <td>C</td>\n",
       "    </tr>\n",
       "    <tr>\n",
       "      <th>2</th>\n",
       "      <td>3</td>\n",
       "      <td>1</td>\n",
       "      <td>3</td>\n",
       "      <td>Heikkinen, Miss. Laina</td>\n",
       "      <td>female</td>\n",
       "      <td>26.0</td>\n",
       "      <td>0</td>\n",
       "      <td>0</td>\n",
       "      <td>STON/O2. 3101282</td>\n",
       "      <td>7.9250</td>\n",
       "      <td>NaN</td>\n",
       "      <td>S</td>\n",
       "    </tr>\n",
       "    <tr>\n",
       "      <th>3</th>\n",
       "      <td>4</td>\n",
       "      <td>1</td>\n",
       "      <td>1</td>\n",
       "      <td>Futrelle, Mrs. Jacques Heath (Lily May Peel)</td>\n",
       "      <td>female</td>\n",
       "      <td>35.0</td>\n",
       "      <td>1</td>\n",
       "      <td>0</td>\n",
       "      <td>113803</td>\n",
       "      <td>53.1000</td>\n",
       "      <td>C123</td>\n",
       "      <td>S</td>\n",
       "    </tr>\n",
       "    <tr>\n",
       "      <th>4</th>\n",
       "      <td>5</td>\n",
       "      <td>0</td>\n",
       "      <td>3</td>\n",
       "      <td>Allen, Mr. William Henry</td>\n",
       "      <td>male</td>\n",
       "      <td>35.0</td>\n",
       "      <td>0</td>\n",
       "      <td>0</td>\n",
       "      <td>373450</td>\n",
       "      <td>8.0500</td>\n",
       "      <td>NaN</td>\n",
       "      <td>S</td>\n",
       "    </tr>\n",
       "  </tbody>\n",
       "</table>\n",
       "</div>"
      ],
      "text/plain": [
       "   PassengerId  Survived  Pclass  \\\n",
       "0            1         0       3   \n",
       "1            2         1       1   \n",
       "2            3         1       3   \n",
       "3            4         1       1   \n",
       "4            5         0       3   \n",
       "\n",
       "                                                Name     Sex   Age  SibSp  \\\n",
       "0                            Braund, Mr. Owen Harris    male  22.0      1   \n",
       "1  Cumings, Mrs. John Bradley (Florence Briggs Th...  female  38.0      1   \n",
       "2                             Heikkinen, Miss. Laina  female  26.0      0   \n",
       "3       Futrelle, Mrs. Jacques Heath (Lily May Peel)  female  35.0      1   \n",
       "4                           Allen, Mr. William Henry    male  35.0      0   \n",
       "\n",
       "   Parch            Ticket     Fare Cabin Embarked  \n",
       "0      0         A/5 21171   7.2500   NaN        S  \n",
       "1      0          PC 17599  71.2833   C85        C  \n",
       "2      0  STON/O2. 3101282   7.9250   NaN        S  \n",
       "3      0            113803  53.1000  C123        S  \n",
       "4      0            373450   8.0500   NaN        S  "
      ]
     },
     "execution_count": 5,
     "metadata": {},
     "output_type": "execute_result"
    }
   ],
   "source": [
    "# Read datasets from excel files\n",
    "df = pd.read_csv(path)\n",
    "print(\"Dataset has {} rows, {} columns\".format(*df.shape))\n",
    "df.head(5)"
   ]
  },
  {
   "cell_type": "markdown",
   "metadata": {
    "collapsed": false
   },
   "source": [
    "# Data pre-processing"
   ]
  },
  {
   "cell_type": "code",
   "execution_count": 6,
   "metadata": {
    "collapsed": false,
    "scrolled": true
   },
   "outputs": [
    {
     "name": "stdout",
     "output_type": "stream",
     "text": [
      "Dataset has 714 rows, 9 columns\n"
     ]
    }
   ],
   "source": [
    "#### Standardisable pre-processing\n",
    "\n",
    "#Keep needed features only\n",
    "df = df[keep]\n",
    "\n",
    "#Dummy encoding\n",
    "if one_hot_encoding:\n",
    "    df = pd.get_dummies(df, drop_first=True)\n",
    "\n",
    "#Drop missing values\n",
    "if dropna:\n",
    "    df = df.dropna(how='any') #'any', 'all'\n",
    "    \n",
    "if impute:\n",
    "    imp = Imputer(missing_values=missing_values, strategy=impute_strategy, axis=0)\n",
    "    imp.fit_transform(df)\n",
    "    \n",
    "#Scaling of numerical data\n",
    "if scale_features:\n",
    "    scaler = StandardScaler()\n",
    "    scaler.fit_transform(df)\n",
    "    \n",
    "print(\"Dataset has {} rows, {} columns\".format(*df.shape))"
   ]
  },
  {
   "cell_type": "code",
   "execution_count": 7,
   "metadata": {
    "collapsed": false
   },
   "outputs": [],
   "source": [
    "#Strings needs to be converted to integers:\n",
    "# 1. Name - This can be removed\n",
    "# 2. Sex - Converted into 1/0\n",
    "# 3. Ticket - Probably insignificant, remove for now.\n",
    "# 4. Cabin - Might represent where they are in the ship, remove for now.\n",
    "# 5. Embarked - 'Matrix conversion' as no levels inherent in number\n",
    "\n",
    "#Remove floats - value too large for random forest\n",
    "df['Age'] = df['Age'].astype(int)\n",
    "df['Fare'] = df['Fare'].astype(int)"
   ]
  },
  {
   "cell_type": "code",
   "execution_count": 8,
   "metadata": {
    "collapsed": true
   },
   "outputs": [],
   "source": [
    "#Create response and target variable\n",
    "X = df.drop(target, axis=1)\n",
    "y = df[target]"
   ]
  },
  {
   "cell_type": "markdown",
   "metadata": {},
   "source": [
    "# Machine Learning\n",
    "Here we train and fit the model."
   ]
  },
  {
   "cell_type": "code",
   "execution_count": 9,
   "metadata": {
    "collapsed": false
   },
   "outputs": [],
   "source": [
    "#Train test split\n",
    "X_train, X_test, y_train, y_test = train_test_split(X, y, test_size=test_size, random_state=seed)"
   ]
  },
  {
   "cell_type": "markdown",
   "metadata": {},
   "source": [
    "## Decision tree classifier"
   ]
  },
  {
   "cell_type": "code",
   "execution_count": 10,
   "metadata": {
    "collapsed": false
   },
   "outputs": [
    {
     "name": "stdout",
     "output_type": "stream",
     "text": [
      "Accuracy: 0.7692307692307693\n",
      "             precision    recall  f1-score   support\n",
      "\n",
      "          0       0.77      0.85      0.81       165\n",
      "          1       0.77      0.65      0.71       121\n",
      "\n",
      "avg / total       0.77      0.77      0.77       286\n",
      "\n"
     ]
    }
   ],
   "source": [
    "#Train model\n",
    "dt = DecisionTreeClassifier(max_depth=3)\n",
    "dt.fit(X_train, y_train)\n",
    "\n",
    "# Make prediction\n",
    "dt_y_pred = dt.predict(X_test)\n",
    "dt_y_pred_proba = dt.predict_proba(X_test)\n",
    "\n",
    "# Compute and print metrics\n",
    "print(\"Accuracy: {}\".format(dt.score(X_test, y_test)))\n",
    "print(classification_report(y_test, dt_y_pred))"
   ]
  },
  {
   "cell_type": "code",
   "execution_count": 11,
   "metadata": {
    "collapsed": false,
    "scrolled": true
   },
   "outputs": [],
   "source": [
    "#Building the dot file for visualisation\n",
    "\n",
    "from sklearn import tree\n",
    "import pydotplus\n",
    "\n",
    "clf = dt\n",
    "clf = clf.fit(X_train, y_train)\n",
    "tree.export_graphviz(clf, out_file = 'tree_max_depth_3.dot', \n",
    "                    feature_names=X_test.columns.values, class_names=['Died','Survived'],\n",
    "                    filled=True, rounded=True, special_characters=True)"
   ]
  },
  {
   "cell_type": "code",
   "execution_count": 13,
   "metadata": {
    "collapsed": false
   },
   "outputs": [],
   "source": [
    "#Display in Jupyter\n",
    "\n",
    "from sklearn.externals.six import StringIO\n",
    "from IPython.display import Image \n",
    "import graphviz\n",
    "\n",
    "dot_data = StringIO()\n",
    "tree.export_graphviz(clf, out_file = dot_data, \n",
    "                     feature_names=X_test.columns.values, class_names=['Did not survive', 'Survived'],\n",
    "                    filled=True, rounded=True, special_characters=True)\n",
    "graph = pydotplus.graph_from_dot_data(dot_data.getvalue())\n",
    "\n",
    "#GraphViz executables not found:  graph.write_png('tree_max_depth_3.png')"
   ]
  },
  {
   "cell_type": "markdown",
   "metadata": {},
   "source": [
    "## Random forest classifier"
   ]
  },
  {
   "cell_type": "code",
   "execution_count": 14,
   "metadata": {
    "collapsed": false
   },
   "outputs": [
    {
     "name": "stdout",
     "output_type": "stream",
     "text": [
      "Accuracy: 0.7762237762237763\n",
      "Best score is 0.8481308411214953\n",
      "             precision    recall  f1-score   support\n",
      "\n",
      "          0       0.75      0.91      0.82       165\n",
      "          1       0.83      0.60      0.69       121\n",
      "\n",
      "avg / total       0.78      0.78      0.77       286\n",
      "\n",
      "Tuned Model Parameters: {'bootstrap': True, 'criterion': 'gini', 'max_depth': 5, 'max_features': 'auto', 'min_samples_split': 2, 'n_estimators': 100}\n"
     ]
    }
   ],
   "source": [
    "#Tuning the model\n",
    "param_grid = { \"n_estimators\"      : [100, 150],\n",
    "           \"criterion\"         : [\"gini\"],\n",
    "           \"max_features\"      : ['auto'], #auto, sqrt, log2, int/n_feature\n",
    "           \"max_depth\"         : [5, 20],\n",
    "           \"min_samples_split\" : [2, 4] ,\n",
    "           \"bootstrap\": [True]}\n",
    "\n",
    "rf = RandomForestClassifier(random_state=seed)\n",
    "\n",
    "rf_cv = GridSearchCV(rf, param_grid, cv=5)\n",
    "rf_cv.fit(X_train, y_train)\n",
    "\n",
    "rf_best = rf_cv.best_estimator_\n",
    "\n",
    "# Make prediction\n",
    "y_pred = rf_cv.predict(X_test)\n",
    "y_pred_proba = rf_cv.predict_proba(X_test)\n",
    "\n",
    "# Compute and print metrics\n",
    "print(\"Accuracy: {}\".format(rf_cv.score(X_test, y_test)))\n",
    "print(\"Best score is {}\".format(rf_cv.best_score_))\n",
    "print(classification_report(y_test, y_pred))\n",
    "print(\"Tuned Model Parameters: {}\".format(rf_cv.best_params_))"
   ]
  },
  {
   "cell_type": "markdown",
   "metadata": {},
   "source": [
    "## Feature importance\n",
    "What are the most important drivers of store sales according to the model"
   ]
  },
  {
   "cell_type": "code",
   "execution_count": 15,
   "metadata": {
    "collapsed": false
   },
   "outputs": [],
   "source": [
    "#Display feature importance\n",
    "def feature_importance(model, trainData, display_n_rows):\n",
    "    \"\"\"Display feature importance & weighting for tree based model\"\"\"\n",
    "    fi = model.feature_importances_*100\n",
    "    feat_imp = pd.DataFrame(list(zip(fi,trainData.columns.values)))\n",
    "    feat_imp = feat_imp.sort_values(by=0, axis=0, ascending=False)\n",
    "    feat_imp.columns = ['importance %', 'feature']\n",
    "    print(feat_imp[:display_n_rows])"
   ]
  },
  {
   "cell_type": "code",
   "execution_count": 16,
   "metadata": {
    "collapsed": false,
    "scrolled": true
   },
   "outputs": [
    {
     "name": "stdout",
     "output_type": "stream",
     "text": [
      "   importance %     feature\n",
      "5     41.920456    Sex_male\n",
      "1     16.694158         Age\n",
      "4     16.309330        Fare\n",
      "0     14.161379      Pclass\n",
      "3      4.039234       Parch\n",
      "2      3.621181       SibSp\n",
      "7      2.631645  Embarked_S\n",
      "6      0.622617  Embarked_Q\n"
     ]
    }
   ],
   "source": [
    "#Display features & weighting\n",
    "feature_importance(rf_best, X_train, 10)"
   ]
  },
  {
   "cell_type": "markdown",
   "metadata": {},
   "source": [
    "## Decision path visualisation"
   ]
  },
  {
   "cell_type": "code",
   "execution_count": 17,
   "metadata": {
    "collapsed": false
   },
   "outputs": [
    {
     "name": "stdout",
     "output_type": "stream",
     "text": [
      "(<1x3982 sparse matrix of type '<class 'numpy.int64'>'\n",
      "\twith 598 stored elements in Compressed Sparse Row format>, array([   0,   45,   98,  149,  190,  233,  258,  309,  360,  401,  430,\n",
      "        461,  512,  541,  580,  623,  668,  711,  760,  803,  852,  889,\n",
      "        932,  981, 1006, 1035, 1074, 1107, 1136, 1165, 1196, 1241, 1262,\n",
      "       1313, 1350, 1385, 1420, 1465, 1518, 1553, 1590, 1625, 1672, 1707,\n",
      "       1744, 1787, 1812, 1863, 1904, 1945, 1982, 2017, 2054, 2097, 2142,\n",
      "       2191, 2228, 2267, 2304, 2343, 2390, 2419, 2456, 2489, 2534, 2583,\n",
      "       2632, 2677, 2714, 2739, 2786, 2833, 2886, 2919, 2960, 2995, 3032,\n",
      "       3073, 3126, 3157, 3194, 3239, 3274, 3313, 3354, 3409, 3458, 3483,\n",
      "       3516, 3539, 3590, 3629, 3660, 3707, 3750, 3777, 3822, 3861, 3898,\n",
      "       3939, 3982], dtype=int32))\n"
     ]
    }
   ],
   "source": [
    "i_data = X_test.iloc[12]\n",
    "data = i_data.values.reshape(1,-1)\n",
    "d_path = rf_best.decision_path(data)\n",
    "print(d_path)"
   ]
  },
  {
   "cell_type": "markdown",
   "metadata": {},
   "source": [
    "## Tree interpreter\n",
    "Decomposing random forest predictions"
   ]
  },
  {
   "cell_type": "code",
   "execution_count": 18,
   "metadata": {
    "collapsed": false
   },
   "outputs": [
    {
     "data": {
      "text/html": [
       "<div>\n",
       "<table border=\"1\" class=\"dataframe\">\n",
       "  <thead>\n",
       "    <tr style=\"text-align: right;\">\n",
       "      <th></th>\n",
       "      <th>Pclass</th>\n",
       "      <th>Age</th>\n",
       "      <th>SibSp</th>\n",
       "      <th>Parch</th>\n",
       "      <th>Fare</th>\n",
       "      <th>Sex_male</th>\n",
       "      <th>Embarked_Q</th>\n",
       "      <th>Embarked_S</th>\n",
       "      <th>ti_bias</th>\n",
       "      <th>rf_survived_proba</th>\n",
       "      <th>predicted_outcome</th>\n",
       "      <th>actual_outcome</th>\n",
       "    </tr>\n",
       "  </thead>\n",
       "  <tbody>\n",
       "    <tr>\n",
       "      <th>0</th>\n",
       "      <td>-2.17</td>\n",
       "      <td>-2.25</td>\n",
       "      <td>-0.24</td>\n",
       "      <td>-1.07</td>\n",
       "      <td>-3.09</td>\n",
       "      <td>-16.03</td>\n",
       "      <td>-0.02</td>\n",
       "      <td>-1.31</td>\n",
       "      <td>39.67</td>\n",
       "      <td>13.49</td>\n",
       "      <td>0.0</td>\n",
       "      <td>0.0</td>\n",
       "    </tr>\n",
       "    <tr>\n",
       "      <th>1</th>\n",
       "      <td>2.91</td>\n",
       "      <td>33.94</td>\n",
       "      <td>3.56</td>\n",
       "      <td>4.71</td>\n",
       "      <td>4.70</td>\n",
       "      <td>-14.97</td>\n",
       "      <td>0.08</td>\n",
       "      <td>-1.12</td>\n",
       "      <td>39.67</td>\n",
       "      <td>73.47</td>\n",
       "      <td>1.0</td>\n",
       "      <td>0.0</td>\n",
       "    </tr>\n",
       "    <tr>\n",
       "      <th>2</th>\n",
       "      <td>7.88</td>\n",
       "      <td>0.64</td>\n",
       "      <td>-0.76</td>\n",
       "      <td>-0.23</td>\n",
       "      <td>0.59</td>\n",
       "      <td>30.32</td>\n",
       "      <td>-0.05</td>\n",
       "      <td>-1.51</td>\n",
       "      <td>39.67</td>\n",
       "      <td>76.53</td>\n",
       "      <td>1.0</td>\n",
       "      <td>1.0</td>\n",
       "    </tr>\n",
       "    <tr>\n",
       "      <th>3</th>\n",
       "      <td>9.29</td>\n",
       "      <td>1.96</td>\n",
       "      <td>0.33</td>\n",
       "      <td>0.26</td>\n",
       "      <td>9.83</td>\n",
       "      <td>28.04</td>\n",
       "      <td>0.21</td>\n",
       "      <td>3.84</td>\n",
       "      <td>39.67</td>\n",
       "      <td>93.43</td>\n",
       "      <td>1.0</td>\n",
       "      <td>0.0</td>\n",
       "    </tr>\n",
       "    <tr>\n",
       "      <th>4</th>\n",
       "      <td>-5.32</td>\n",
       "      <td>-3.36</td>\n",
       "      <td>0.12</td>\n",
       "      <td>-0.72</td>\n",
       "      <td>-7.01</td>\n",
       "      <td>-11.95</td>\n",
       "      <td>-0.19</td>\n",
       "      <td>-1.37</td>\n",
       "      <td>39.67</td>\n",
       "      <td>9.86</td>\n",
       "      <td>0.0</td>\n",
       "      <td>0.0</td>\n",
       "    </tr>\n",
       "  </tbody>\n",
       "</table>\n",
       "</div>"
      ],
      "text/plain": [
       "   Pclass    Age  SibSp  Parch  Fare  Sex_male  Embarked_Q  Embarked_S  \\\n",
       "0   -2.17  -2.25  -0.24  -1.07 -3.09    -16.03       -0.02       -1.31   \n",
       "1    2.91  33.94   3.56   4.71  4.70    -14.97        0.08       -1.12   \n",
       "2    7.88   0.64  -0.76  -0.23  0.59     30.32       -0.05       -1.51   \n",
       "3    9.29   1.96   0.33   0.26  9.83     28.04        0.21        3.84   \n",
       "4   -5.32  -3.36   0.12  -0.72 -7.01    -11.95       -0.19       -1.37   \n",
       "\n",
       "   ti_bias  rf_survived_proba  predicted_outcome  actual_outcome  \n",
       "0    39.67              13.49                0.0             0.0  \n",
       "1    39.67              73.47                1.0             0.0  \n",
       "2    39.67              76.53                1.0             1.0  \n",
       "3    39.67              93.43                1.0             0.0  \n",
       "4    39.67               9.86                0.0             0.0  "
      ]
     },
     "execution_count": 18,
     "metadata": {},
     "output_type": "execute_result"
    }
   ],
   "source": [
    "#Print for all instances \n",
    "\n",
    "#Run tree interpreter\n",
    "prediction, bias, contributions = ti.predict(rf_best, X_test)\n",
    "\n",
    "#Create df\n",
    "survived_contributions = contributions[:, :, 1]\n",
    "df_contributions = pd.DataFrame(survived_contributions, columns=X.columns)\n",
    "df_contributions['ti_bias'] = bias[:,1]\n",
    "df_contributions['rf_survived_proba'] = y_pred_proba[:,1]\n",
    "df_contributions['predicted_outcome'] = y_pred\n",
    "df_contributions['actual_outcome'] = y_test\n",
    "df_contributions['actual_outcome'].fillna(0, inplace=True)\n",
    "df_contributions = df_contributions.round(4) * 100\n",
    "df_contributions[['predicted_outcome', 'actual_outcome']] = df_contributions[['predicted_outcome', 'actual_outcome']] / 100\n",
    "df_contributions.head()"
   ]
  },
  {
   "cell_type": "code",
   "execution_count": 19,
   "metadata": {
    "collapsed": false
   },
   "outputs": [],
   "source": [
    "#Create function to show instance alongside contributions\n",
    "\n",
    "def instance(i):\n",
    "    \"\"\"Actual test example alongside contributions\"\"\"\n",
    "    i_contribution = df_contributions.iloc[i]\n",
    "    i_data = X_test.iloc[i]\n",
    "    i_actual = y_test.iloc[i]\n",
    "\n",
    "    instance = pd.DataFrame(list(zip(X_test.columns.values, i_data, i_contribution)), \n",
    "                            columns = ['Feature', 'Instance', 'Contribution'])\n",
    "    print(\"Instance {} prediction:\".format(i), rf_best.predict(i_data.values.reshape(1,-1)))\n",
    "    print(\"Instance {} actual:\".format(i), i_actual)\n",
    "    print(instance)"
   ]
  },
  {
   "cell_type": "markdown",
   "metadata": {},
   "source": [
    "## Outputs\n",
    "- Which features are driving each outcome?\n",
    "- What does each outcome look like?"
   ]
  },
  {
   "cell_type": "code",
   "execution_count": 20,
   "metadata": {
    "collapsed": false
   },
   "outputs": [],
   "source": [
    "#Write contributions to csv\n",
    "df_contributions.to_csv('contributions.csv')"
   ]
  },
  {
   "cell_type": "code",
   "execution_count": 21,
   "metadata": {
    "collapsed": false
   },
   "outputs": [
    {
     "name": "stdout",
     "output_type": "stream",
     "text": [
      "Instance 2 prediction: [1]\n",
      "Instance 2 actual: 1\n",
      "      Feature  Instance  Contribution\n",
      "0      Pclass         2          7.88\n",
      "1         Age        29          0.64\n",
      "2       SibSp         1         -0.76\n",
      "3       Parch         0         -0.23\n",
      "4        Fare        26          0.59\n",
      "5    Sex_male         0         30.32\n",
      "6  Embarked_Q         0         -0.05\n",
      "7  Embarked_S         1         -1.51\n"
     ]
    }
   ],
   "source": [
    "#Output for example instance\n",
    "instance(2)"
   ]
  },
  {
   "cell_type": "code",
   "execution_count": 22,
   "metadata": {
    "collapsed": false
   },
   "outputs": [
    {
     "data": {
      "text/html": [
       "<div>\n",
       "<table border=\"1\" class=\"dataframe\">\n",
       "  <thead>\n",
       "    <tr style=\"text-align: right;\">\n",
       "      <th></th>\n",
       "      <th>Pclass</th>\n",
       "      <th>Age</th>\n",
       "      <th>SibSp</th>\n",
       "      <th>Parch</th>\n",
       "      <th>Fare</th>\n",
       "      <th>Sex_male</th>\n",
       "      <th>Embarked_Q</th>\n",
       "      <th>Embarked_S</th>\n",
       "      <th>ti_bias</th>\n",
       "      <th>rf_survived_proba</th>\n",
       "    </tr>\n",
       "    <tr>\n",
       "      <th>predicted_outcome</th>\n",
       "      <th></th>\n",
       "      <th></th>\n",
       "      <th></th>\n",
       "      <th></th>\n",
       "      <th></th>\n",
       "      <th></th>\n",
       "      <th></th>\n",
       "      <th></th>\n",
       "      <th></th>\n",
       "      <th></th>\n",
       "    </tr>\n",
       "  </thead>\n",
       "  <tbody>\n",
       "    <tr>\n",
       "      <th>0.0</th>\n",
       "      <td>-3.30</td>\n",
       "      <td>-0.46</td>\n",
       "      <td>-1.0</td>\n",
       "      <td>-0.33</td>\n",
       "      <td>-2.55</td>\n",
       "      <td>-8.78</td>\n",
       "      <td>-0.07</td>\n",
       "      <td>-0.45</td>\n",
       "      <td>39.67</td>\n",
       "      <td>22.73</td>\n",
       "    </tr>\n",
       "    <tr>\n",
       "      <th>1.0</th>\n",
       "      <td>4.71</td>\n",
       "      <td>2.45</td>\n",
       "      <td>0.9</td>\n",
       "      <td>1.31</td>\n",
       "      <td>1.98</td>\n",
       "      <td>25.24</td>\n",
       "      <td>0.04</td>\n",
       "      <td>1.51</td>\n",
       "      <td>39.67</td>\n",
       "      <td>77.81</td>\n",
       "    </tr>\n",
       "  </tbody>\n",
       "</table>\n",
       "</div>"
      ],
      "text/plain": [
       "                   Pclass   Age  SibSp  Parch  Fare  Sex_male  Embarked_Q  \\\n",
       "predicted_outcome                                                           \n",
       "0.0                 -3.30 -0.46   -1.0  -0.33 -2.55     -8.78       -0.07   \n",
       "1.0                  4.71  2.45    0.9   1.31  1.98     25.24        0.04   \n",
       "\n",
       "                   Embarked_S  ti_bias  rf_survived_proba  \n",
       "predicted_outcome                                          \n",
       "0.0                     -0.45    39.67              22.73  \n",
       "1.0                      1.51    39.67              77.81  "
      ]
     },
     "execution_count": 22,
     "metadata": {},
     "output_type": "execute_result"
    }
   ],
   "source": [
    "df_contributions.groupby('predicted_outcome').mean().round(2).drop('actual_outcome', axis=1)"
   ]
  },
  {
   "cell_type": "code",
   "execution_count": 23,
   "metadata": {
    "collapsed": false,
    "scrolled": true
   },
   "outputs": [
    {
     "name": "stdout",
     "output_type": "stream",
     "text": [
      "   importance %     feature\n",
      "5     41.920456    Sex_male\n",
      "1     16.694158         Age\n",
      "4     16.309330        Fare\n",
      "0     14.161379      Pclass\n",
      "3      4.039234       Parch\n",
      "2      3.621181       SibSp\n",
      "7      2.631645  Embarked_S\n",
      "6      0.622617  Embarked_Q\n"
     ]
    }
   ],
   "source": [
    "#Display features & weighting\n",
    "feature_importance(rf_best, X_train, 10)"
   ]
  },
  {
   "cell_type": "markdown",
   "metadata": {},
   "source": [
    "## Bayesian Rule List classifier\n",
    "- Produce rule lists"
   ]
  },
  {
   "cell_type": "code",
   "execution_count": null,
   "metadata": {
    "collapsed": true
   },
   "outputs": [],
   "source": []
  },
  {
   "cell_type": "markdown",
   "metadata": {},
   "source": [
    "Questions for Aldous:\n",
    "\n",
    "1. Understand the use of 'class' object\n",
    "2. How to interpret 'contributions'?"
   ]
  },
  {
   "cell_type": "code",
   "execution_count": null,
   "metadata": {
    "collapsed": true
   },
   "outputs": [],
   "source": []
  }
 ],
 "metadata": {
  "kernelspec": {
   "display_name": "Python 3",
   "language": "python",
   "name": "python3"
  },
  "language_info": {
   "codemirror_mode": {
    "name": "ipython",
    "version": 3
   },
   "file_extension": ".py",
   "mimetype": "text/x-python",
   "name": "python",
   "nbconvert_exporter": "python",
   "pygments_lexer": "ipython3",
   "version": "3.6.0"
  }
 },
 "nbformat": 4,
 "nbformat_minor": 0
}
